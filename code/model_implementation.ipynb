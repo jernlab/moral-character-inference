{
 "cells": [
  {
   "cell_type": "markdown",
   "id": "c2324414",
   "metadata": {},
   "source": [
    "# Define the taxonomy"
   ]
  },
  {
   "cell_type": "code",
   "execution_count": 1,
   "id": "02f7960f",
   "metadata": {},
   "outputs": [
    {
     "name": "stdout",
     "output_type": "stream",
     "text": [
      "['ca', 'fa', 'au', 'lo', 'po', 'pr', 'sa', 'li', 'all']\n",
      "[['ca', 'sa'], ['ca', 'li'], ['ca', 'fa'], ['ca', 'au'], ['ca', 'lo'], ['ca', 'po'], ['fa', 'sa'], ['fa', 'li'], ['fa', 'au'], ['fa', 'lo'], ['fa', 'po'], ['au', 'sa'], ['au', 'li'], ['au', 'lo'], ['au', 'po'], ['lo', 'sa'], ['lo', 'li'], ['lo', 'po'], ['po', 'sa'], ['po', 'li']]\n",
      "[['pr', 'sa', 'li'], ['ca', 'sa', 'li'], ['fa', 'sa', 'li'], ['au', 'sa', 'li'], ['lo', 'sa', 'li'], ['po', 'sa', 'li']]\n"
     ]
    }
   ],
   "source": [
    "# For simplification, the following are used to represent the nodes (on p1752 of Landy & Bartels):\n",
    "# ca => care\n",
    "# fa => fairness\n",
    "# au => authority\n",
    "# lo => loyalty\n",
    "# po => politeness\n",
    "# pr => propriety\n",
    "# sa => sanctity\n",
    "# li => liberty\n",
    "# all => all moral virtues\n",
    "level1 = ['ca', 'fa', 'au', 'lo', 'po', 'pr', 'sa', 'li', 'all']\n",
    "\n",
    "# generate level 2 of the taxonomy, with each element being a list containing all the individual nodes\n",
    "# note that we can't have 2 nodes with overlap (i.e. Propriety and Care), and we can't have all moral virtues\n",
    "level2 = []\n",
    "all_propriety = ['ca', 'fa', 'au', 'lo', 'po']\n",
    "for i in range(len(all_propriety)):\n",
    "    n1 = all_propriety[i]\n",
    "    # append the two nodes directly under all moral virtues\n",
    "    level2.append([n1,'sa'])\n",
    "    level2.append([n1,'li'])\n",
    "    # add all possible combinations of this node plus others in propriety\n",
    "    for j in range(i+1,len(all_propriety)):\n",
    "        level2.append([n1,all_propriety[j]])\n",
    "    \n",
    "# generate level 3 of the taxonomy\n",
    "# all of them are just one thing under propriety + sanctity and liberty\n",
    "level3 = [['pr','sa','li']]\n",
    "for n1 in all_propriety:\n",
    "    level3.append([n1,'sa','li'])\n",
    "\n",
    "# We could keep going up, but will stop here for now. \n",
    "print(level1)\n",
    "print(level2)\n",
    "print(level3)"
   ]
  },
  {
   "cell_type": "markdown",
   "id": "847be267",
   "metadata": {},
   "source": [
    "# Define functions"
   ]
  },
  {
   "cell_type": "markdown",
   "id": "95aa1aeb",
   "metadata": {},
   "source": [
    "### Helper functions"
   ]
  },
  {
   "cell_type": "code",
   "execution_count": 2,
   "id": "24c8737d",
   "metadata": {},
   "outputs": [],
   "source": [
    "# get the layer number for the given hypothesis\n",
    "def get_layer(hypothesis):\n",
    "    # define the hypothesis as a set, regardless of length\n",
    "    if len(hypothesis) == 1:\n",
    "        if hypothesis[0] in level1:\n",
    "            return 1\n",
    "        else:\n",
    "            return -1\n",
    "        \n",
    "    if len(hypothesis) == 2:\n",
    "        for hyp in level2:\n",
    "            if hypothesis[0] in hyp and hypothesis[1] in hyp:\n",
    "                return 2\n",
    "        return -1\n",
    "    \n",
    "    if len(hypothesis) == 3:\n",
    "        for hyp in level3:\n",
    "            if hypothesis[0] in hyp and hypothesis[1] in hyp and hypothesis[2] in hyp:\n",
    "                return 3\n",
    "        return -1\n",
    "\n",
    "# get the size of the hypothesis, in terms of number of lowest-level categories\n",
    "def get_hypothesis_size(h):\n",
    "    # 7 total leaf nodes\n",
    "    if 'all' in h:\n",
    "        return 7\n",
    "    \n",
    "    # compute size if not all\n",
    "    size = len(h)\n",
    "    # if proprietary is in the hypothesis, replace with the 5 sub-categories (leaf nodes)\n",
    "    if 'pr' in h:\n",
    "        size = size + 4\n",
    "    return size\n",
    "\n",
    "# check whether all elements of the hypothesis are contained in X\n",
    "def contains_all(h,X):\n",
    "    if 'all' in h:\n",
    "        return True\n",
    "    \n",
    "    for item in X:\n",
    "        # check if the item is contained in h\n",
    "        if item in h:\n",
    "            pass\n",
    "        elif item in all_propriety and 'pr' in h:\n",
    "            pass\n",
    "        else:\n",
    "            return False\n",
    "    \n",
    "    # if no missing elements, return true\n",
    "    return True\n",
    "\n",
    "def is_in(y,h):\n",
    "    return 'all' in h or y in h or (y in all_propriety and 'pr' in h)"
   ]
  },
  {
   "cell_type": "markdown",
   "id": "1e4e0ca2",
   "metadata": {},
   "source": [
    "### Functions to compute priors & likelihoods"
   ]
  },
  {
   "cell_type": "code",
   "execution_count": 3,
   "id": "d90c26ad",
   "metadata": {},
   "outputs": [],
   "source": [
    "# compute the prior, given lambda and h\n",
    "def compute_prior(lambda_param,h):\n",
    "    k = get_layer(h)\n",
    "    return (lambda_param / (1 - lambda_param))**k\n",
    "\n",
    "# compute the likelihood, given X and h\n",
    "def compute_likelihood(X,h):\n",
    "    # X is a list of individual examples (i.e. leaf nodes); h may have some higher level nodes as well\n",
    "    if contains_all(h,X):\n",
    "        n = len(X)\n",
    "        s_h = get_hypothesis_size(h)\n",
    "        return (1/s_h)**n\n",
    "    return 0"
   ]
  },
  {
   "cell_type": "markdown",
   "id": "9a2f5926",
   "metadata": {},
   "source": [
    "### Compute P(y in C)"
   ]
  },
  {
   "cell_type": "code",
   "execution_count": 4,
   "id": "fdeae49d",
   "metadata": {},
   "outputs": [],
   "source": [
    "all_hypotheses = level1 + level2 + level3\n",
    "\n",
    "def compute_all(X,lambda_param):\n",
    "    total = 0\n",
    "    for h in all_hypotheses:\n",
    "        total = total + compute_likelihood(X,h) * compute_prior(lambda_param,h)\n",
    "    return total\n",
    "\n",
    "# Compute P(h|X)\n",
    "def compute_h_given_X(h,X,lambda_param):\n",
    "    return compute_likelihood(X,h) * compute_prior(lambda_param,h) / compute_all(X,lambda_param)\n",
    "\n",
    "# Compute P(y in C)\n",
    "def compute_y_in_C(y,X,lambda_param):\n",
    "    p = 0\n",
    "    for h in all_hypotheses:\n",
    "        if is_in(y,h):\n",
    "            p = p + compute_h_given_X(h,X,lambda_param)\n",
    "    return p"
   ]
  },
  {
   "cell_type": "markdown",
   "id": "53c5af65",
   "metadata": {},
   "source": [
    "# Intermediate Tests"
   ]
  },
  {
   "cell_type": "code",
   "execution_count": 5,
   "id": "29dc4e9b",
   "metadata": {},
   "outputs": [
    {
     "name": "stdout",
     "output_type": "stream",
     "text": [
      "0.1281138790035587\n"
     ]
    }
   ],
   "source": [
    "# Example: Joe has committed care & fairness violations. How likely is he to commit a sanctity violation? \n",
    "# X = [care, fairness]\n",
    "# y = sanctity\n",
    "print(compute_y_in_C('sa',['ca','fa'],0.5))"
   ]
  },
  {
   "cell_type": "code",
   "execution_count": 6,
   "id": "cde4d41d",
   "metadata": {},
   "outputs": [
    {
     "name": "stdout",
     "output_type": "stream",
     "text": [
      "0.16509988249118682\n"
     ]
    }
   ],
   "source": [
    "# Example: Joe has committed care & fairness violations. How likely is he to commit a loyalty violation? \n",
    "# X = [care, fairness]\n",
    "# y = loyalty\n",
    "print(compute_y_in_C('lo',['ca','ca'],0.5))\n",
    "# We would expect this probability to be higher than the previous one, because both are violations of propriety. "
   ]
  },
  {
   "cell_type": "code",
   "execution_count": 7,
   "id": "7ddb17b3",
   "metadata": {},
   "outputs": [],
   "source": [
    "# Note that these numbers are not technically probabilities since we did not define P(X). Thus, it is their values\n",
    "# relative to each other that matter, not the actual values themselves. "
   ]
  },
  {
   "cell_type": "markdown",
   "id": "fb97c032",
   "metadata": {},
   "source": [
    "### Compute an actual probability"
   ]
  },
  {
   "cell_type": "code",
   "execution_count": 8,
   "id": "eb3880ed",
   "metadata": {},
   "outputs": [],
   "source": [
    "# compute probabilities for all possible y-values given a specific X and lambda parameter\n",
    "def compute_all_probabilities(X,lambda_param):\n",
    "    all_y = ['ca', 'fa', 'au', 'lo', 'po', 'sa', 'li']\n",
    "    probs = []\n",
    "    for y in all_y:\n",
    "        probs.append([y,compute_y_in_C(y,X,lambda_param)])\n",
    "    return probs"
   ]
  },
  {
   "cell_type": "markdown",
   "id": "a299e672",
   "metadata": {},
   "source": [
    "# Tests for Actual Probability"
   ]
  },
  {
   "cell_type": "code",
   "execution_count": 9,
   "id": "6a3b98ff",
   "metadata": {},
   "outputs": [
    {
     "name": "stdout",
     "output_type": "stream",
     "text": [
      "Single example:\n",
      " [['ca', 1.0000000000000002], ['fa', 0.38125479422730446], ['au', 0.38125479422730446], ['lo', 0.38125479422730446], ['po', 0.38125479422730446], ['sa', 0.17649446099505867], ['li', 0.17649446099505867]]\n",
      "Multiple examples:\n",
      " [['ca', 1.0], ['fa', 0.0577705865363241], ['au', 0.0577705865363241], ['lo', 0.0577705865363241], ['po', 0.0577705865363241], ['sa', 0.023154735516379785], ['li', 0.023154735516379785]]\n"
     ]
    }
   ],
   "source": [
    "# Testing single vs multiple examples of a single subcategory (care)\n",
    "print('Single example:\\n',compute_all_probabilities(['ca'],0.1))\n",
    "print('Multiple examples:\\n',compute_all_probabilities(['ca','ca','ca'],0.1))"
   ]
  },
  {
   "cell_type": "code",
   "execution_count": 10,
   "id": "b5421800",
   "metadata": {},
   "outputs": [
    {
     "name": "stdout",
     "output_type": "stream",
     "text": [
      "Same category:\n",
      " [['ca', 1.0000000000000002], ['fa', 0.38125479422730446], ['au', 0.38125479422730446], ['lo', 0.38125479422730446], ['po', 0.38125479422730446], ['sa', 0.17649446099505867], ['li', 0.17649446099505867]]\n",
      "Multiple categories:\n",
      " [['ca', 1.0], ['fa', 1.0], ['au', 0.992933824707579], ['lo', 0.992933824707579], ['po', 0.992933824707579], ['sa', 0.42057362602147086], ['li', 0.42057362602147086]]\n"
     ]
    }
   ],
   "source": [
    "# Testing with 2 examples, in same vs different categories (all under propriety)\n",
    "print('Same category:\\n',compute_all_probabilities(['ca'],0.1))\n",
    "print('Multiple categories:\\n',compute_all_probabilities(['ca','fa'],0.1))"
   ]
  },
  {
   "cell_type": "code",
   "execution_count": 11,
   "id": "9adfb775",
   "metadata": {},
   "outputs": [
    {
     "name": "stdout",
     "output_type": "stream",
     "text": [
      "Same category:\n",
      " [['ca', 1.0], ['fa', 1.0], ['au', 1.0], ['lo', 1.0], ['po', 1.0], ['sa', 0.3864404284294601], ['li', 0.3864404284294601]]\n",
      "Multiple categories:\n",
      " [['ca', 1.0], ['fa', 0.9980677906904691], ['au', 0.9980677906904691], ['lo', 0.9980677906904691], ['po', 0.9980677906904691], ['sa', 1.0], ['li', 1.0]]\n"
     ]
    }
   ],
   "source": [
    "# Testing with 2 examples, in same vs different categories (all propriety or propriety/sanctity/liberty)\n",
    "print('Same category:\\n',compute_all_probabilities(['ca','fa','au'],0.1))\n",
    "print('Multiple categories:\\n',compute_all_probabilities(['ca','sa','li'],0.1))"
   ]
  },
  {
   "cell_type": "code",
   "execution_count": 12,
   "id": "032e575d",
   "metadata": {},
   "outputs": [
    {
     "name": "stdout",
     "output_type": "stream",
     "text": [
      "Same category:\n",
      " [['ca', 0.9999999999999999], ['fa', 0.9999999999999999], ['au', 0.9999999999999999], ['lo', 0.9999999999999999], ['po', 0.9999999999999999], ['sa', 0.5574193548387096], ['li', 0.5574193548387096]]\n",
      "Multiple categories:\n",
      " [['ca', 1.0], ['fa', 0.13602015113350127], ['au', 0.13602015113350127], ['lo', 0.13602015113350127], ['po', 0.13602015113350127], ['sa', 1.0], ['li', 1.0]]\n"
     ]
    }
   ],
   "source": [
    "# Testing with 2 examples, in same vs different categories (all propriety or propriety/sanctity/liberty)\n",
    "# Lambda has been changed to 0.5 (larger)\n",
    "print('Same category:\\n',compute_all_probabilities(['ca','fa','au'],0.5))\n",
    "print('Multiple categories:\\n',compute_all_probabilities(['ca','sa','li'],0.5))"
   ]
  },
  {
   "cell_type": "code",
   "execution_count": 13,
   "id": "fd5985ee",
   "metadata": {},
   "outputs": [
    {
     "name": "stdout",
     "output_type": "stream",
     "text": [
      "Same category:\n",
      " [['ca', 1.0], ['fa', 1.0], ['au', 1.0], ['lo', 1.0], ['po', 1.0], ['sa', 0.47697072174697797], ['li', 0.47697072174697797]]\n",
      "Multiple categories:\n",
      " [['ca', 1.0], ['fa', 0.20279098239136886], ['au', 0.20279098239136886], ['lo', 0.20279098239136886], ['po', 0.20279098239136886], ['sa', 1.0], ['li', 1.0]]\n"
     ]
    }
   ],
   "source": [
    "# Testing with 2 examples, in same vs different categories (all propriety or propriety/sanctity/liberty)\n",
    "# Lambda changed to 0.45 (slightly smaller than previous test)\n",
    "print('Same category:\\n',compute_all_probabilities(['ca','fa','au'],0.45))\n",
    "print('Multiple categories:\\n',compute_all_probabilities(['ca','sa','li'],0.45))"
   ]
  },
  {
   "cell_type": "markdown",
   "id": "59132f4d",
   "metadata": {},
   "source": [
    "## Model Predictions for Experiment"
   ]
  },
  {
   "cell_type": "code",
   "execution_count": 17,
   "id": "fa2d4ed0",
   "metadata": {},
   "outputs": [
    {
     "name": "stdout",
     "output_type": "stream",
     "text": [
      "Premise: 1 propriety\n",
      " [['ca', 0.38125479422730446], ['fa', 0.38125479422730446], ['au', 0.38125479422730446], ['lo', 1.0000000000000002], ['po', 0.38125479422730446], ['sa', 0.17649446099505867], ['li', 0.17649446099505867]]\n",
      "\n",
      "Premise: 1 liberty\n",
      " [['ca', 0.2221218176103453], ['fa', 0.2221218176103453], ['au', 0.2221218176103453], ['lo', 0.2221218176103453], ['po', 0.2221218176103453], ['sa', 0.2213753311481299], ['li', 1.0]]\n",
      "\n",
      "Premise: 1 sanctity\n",
      " [['ca', 0.2221218176103453], ['fa', 0.2221218176103453], ['au', 0.2221218176103453], ['lo', 0.2221218176103453], ['po', 0.2221218176103453], ['sa', 1.0], ['li', 0.2213753311481299]]\n"
     ]
    }
   ],
   "source": [
    "# 1-example predictions\n",
    "# for 1 propriety: should I change this to the subcategory, ex \"lo\"? would be the same for all subcategories. \n",
    "print('Premise: 1 propriety\\n',compute_all_probabilities(['lo'],0.1)) \n",
    "print('\\nPremise: 1 liberty\\n',compute_all_probabilities(['li'],0.1))\n",
    "print('\\nPremise: 1 sanctity\\n',compute_all_probabilities(['sa'],0.1))"
   ]
  },
  {
   "cell_type": "code",
   "execution_count": 15,
   "id": "1f75e295",
   "metadata": {},
   "outputs": [
    {
     "name": "stdout",
     "output_type": "stream",
     "text": [
      "Premise: 3 propriety (same)\n",
      " [['ca', 0.0577705865363241], ['fa', 0.0577705865363241], ['au', 0.0577705865363241], ['lo', 1.0], ['po', 0.0577705865363241], ['sa', 0.023154735516379785], ['li', 0.023154735516379785]]\n",
      "\n",
      "Premise: 3 propriety (different)\n",
      " [['ca', 1.0], ['fa', 1.0], ['au', 1.0], ['lo', 1.0], ['po', 1.0], ['sa', 0.3864404284294601], ['li', 0.3864404284294601]]\n",
      "\n",
      "Premise: 3 liberty\n",
      " [['ca', 0.024013773166334868], ['fa', 0.024013773166334868], ['au', 0.024013773166334868], ['lo', 0.024013773166334868], ['po', 0.024013773166334868], ['sa', 0.022857826279357504], ['li', 0.9999999999999997]]\n",
      "\n",
      "Premise: 3 sanctity\n",
      " [['ca', 0.024013773166334868], ['fa', 0.024013773166334868], ['au', 0.024013773166334868], ['lo', 0.024013773166334868], ['po', 0.024013773166334868], ['sa', 0.9999999999999997], ['li', 0.022857826279357504]]\n"
     ]
    }
   ],
   "source": [
    "# 3-example predictions\n",
    "print('Premise: 3 propriety (same)\\n',compute_all_probabilities(['lo','lo','lo'],0.1)) # same for all subcategories (just sub.)\n",
    "print('\\nPremise: 3 propriety (different)\\n',compute_all_probabilities(['ca','fa','au'],0.1)) # same for any 3 subcategories\n",
    "print('\\nPremise: 3 liberty\\n',compute_all_probabilities(['li','li','li'],0.1))\n",
    "print('\\nPremise: 3 sanctity\\n',compute_all_probabilities(['sa','sa','sa'],0.1))"
   ]
  },
  {
   "cell_type": "code",
   "execution_count": null,
   "id": "ea06b92f",
   "metadata": {},
   "outputs": [],
   "source": []
  }
 ],
 "metadata": {
  "kernelspec": {
   "display_name": "Python 3",
   "language": "python",
   "name": "python3"
  },
  "language_info": {
   "codemirror_mode": {
    "name": "ipython",
    "version": 3
   },
   "file_extension": ".py",
   "mimetype": "text/x-python",
   "name": "python",
   "nbconvert_exporter": "python",
   "pygments_lexer": "ipython3",
   "version": "3.8.8"
  }
 },
 "nbformat": 4,
 "nbformat_minor": 5
}
