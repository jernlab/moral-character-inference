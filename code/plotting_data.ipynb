{
 "cells": [
  {
   "cell_type": "code",
   "execution_count": 1,
   "id": "3097f7de",
   "metadata": {},
   "outputs": [
    {
     "data": {
      "text/html": [
       "<div>\n",
       "<style scoped>\n",
       "    .dataframe tbody tr th:only-of-type {\n",
       "        vertical-align: middle;\n",
       "    }\n",
       "\n",
       "    .dataframe tbody tr th {\n",
       "        vertical-align: top;\n",
       "    }\n",
       "\n",
       "    .dataframe thead th {\n",
       "        text-align: right;\n",
       "    }\n",
       "</style>\n",
       "<table border=\"1\" class=\"dataframe\">\n",
       "  <thead>\n",
       "    <tr style=\"text-align: right;\">\n",
       "      <th></th>\n",
       "      <th>survey_name</th>\n",
       "      <th>unit_position</th>\n",
       "      <th>type</th>\n",
       "      <th>item_name</th>\n",
       "      <th>label</th>\n",
       "      <th>answer</th>\n",
       "      <th>display_order</th>\n",
       "      <th>subject</th>\n",
       "      <th>premise</th>\n",
       "      <th>y</th>\n",
       "      <th>condition</th>\n",
       "    </tr>\n",
       "  </thead>\n",
       "  <tbody>\n",
       "    <tr>\n",
       "      <th>0</th>\n",
       "      <td>Single_Inference_Task</td>\n",
       "      <td>10</td>\n",
       "      <td>rating_button</td>\n",
       "      <td>pr1au9</td>\n",
       "      <td>...disobeys his boss; nothing bad happens as a...</td>\n",
       "      <td>6</td>\n",
       "      <td>57</td>\n",
       "      <td>0</td>\n",
       "      <td>lo</td>\n",
       "      <td>au</td>\n",
       "      <td>9</td>\n",
       "    </tr>\n",
       "    <tr>\n",
       "      <th>1</th>\n",
       "      <td>Single_Inference_Task</td>\n",
       "      <td>10</td>\n",
       "      <td>rating_button</td>\n",
       "      <td>pr1sa9</td>\n",
       "      <td>...marries his first cousin in an elaborate we...</td>\n",
       "      <td>3</td>\n",
       "      <td>66</td>\n",
       "      <td>0</td>\n",
       "      <td>lo</td>\n",
       "      <td>sa</td>\n",
       "      <td>9</td>\n",
       "    </tr>\n",
       "    <tr>\n",
       "      <th>2</th>\n",
       "      <td>Single_Inference_Task</td>\n",
       "      <td>10</td>\n",
       "      <td>rating_button</td>\n",
       "      <td>pr1li9</td>\n",
       "      <td>...forces his daughter to enroll as a pre-med ...</td>\n",
       "      <td>4</td>\n",
       "      <td>51</td>\n",
       "      <td>0</td>\n",
       "      <td>lo</td>\n",
       "      <td>li</td>\n",
       "      <td>9</td>\n",
       "    </tr>\n",
       "    <tr>\n",
       "      <th>3</th>\n",
       "      <td>Single_Inference_Task</td>\n",
       "      <td>10</td>\n",
       "      <td>rating_button</td>\n",
       "      <td>pr1fa9</td>\n",
       "      <td>...bribes his landlord to be the first to get ...</td>\n",
       "      <td>5</td>\n",
       "      <td>22</td>\n",
       "      <td>0</td>\n",
       "      <td>lo</td>\n",
       "      <td>fa</td>\n",
       "      <td>9</td>\n",
       "    </tr>\n",
       "    <tr>\n",
       "      <th>4</th>\n",
       "      <td>Single_Inference_Task</td>\n",
       "      <td>10</td>\n",
       "      <td>rating_button</td>\n",
       "      <td>pr1ca9</td>\n",
       "      <td>...is driving along an empty road and sees a w...</td>\n",
       "      <td>4</td>\n",
       "      <td>77</td>\n",
       "      <td>0</td>\n",
       "      <td>lo</td>\n",
       "      <td>ca</td>\n",
       "      <td>9</td>\n",
       "    </tr>\n",
       "  </tbody>\n",
       "</table>\n",
       "</div>"
      ],
      "text/plain": [
       "             survey_name  unit_position           type item_name  \\\n",
       "0  Single_Inference_Task             10  rating_button    pr1au9   \n",
       "1  Single_Inference_Task             10  rating_button    pr1sa9   \n",
       "2  Single_Inference_Task             10  rating_button    pr1li9   \n",
       "3  Single_Inference_Task             10  rating_button    pr1fa9   \n",
       "4  Single_Inference_Task             10  rating_button    pr1ca9   \n",
       "\n",
       "                                               label  answer  display_order  \\\n",
       "0  ...disobeys his boss; nothing bad happens as a...       6             57   \n",
       "1  ...marries his first cousin in an elaborate we...       3             66   \n",
       "2  ...forces his daughter to enroll as a pre-med ...       4             51   \n",
       "3  ...bribes his landlord to be the first to get ...       5             22   \n",
       "4  ...is driving along an empty road and sees a w...       4             77   \n",
       "\n",
       "   subject premise   y  condition  \n",
       "0        0      lo  au          9  \n",
       "1        0      lo  sa          9  \n",
       "2        0      lo  li          9  \n",
       "3        0      lo  fa          9  \n",
       "4        0      lo  ca          9  "
      ]
     },
     "execution_count": 1,
     "metadata": {},
     "output_type": "execute_result"
    }
   ],
   "source": [
    "import numpy as np\n",
    "import pandas as pd\n",
    "import matplotlib.pyplot as plt\n",
    "one = pd.read_csv('SingleInferenceTask_data_processed.csv')\n",
    "three = pd.read_csv('InferenceTask_data_processed.csv')\n",
    "one.head()"
   ]
  },
  {
   "cell_type": "code",
   "execution_count": 2,
   "id": "8f3e2b5c",
   "metadata": {},
   "outputs": [
    {
     "data": {
      "text/plain": [
       "li3         819\n",
       "sa3         819\n",
       "ca3         266\n",
       "po_au_lo    210\n",
       "po3         189\n",
       "fa3         189\n",
       "lo3         168\n",
       "fa_ca_lo    126\n",
       "po_fa_au     91\n",
       "po_lo_au     84\n",
       "au_fa_po     77\n",
       "au_lo_ca     77\n",
       "po_au_fa     70\n",
       "ca_fa_lo     63\n",
       "au_po_fa     21\n",
       "Name: premise, dtype: int64"
      ]
     },
     "execution_count": 2,
     "metadata": {},
     "output_type": "execute_result"
    }
   ],
   "source": [
    "# Checking the distribution of the premises. Also gives a list of the distinct labels. \n",
    "three['premise'].value_counts()"
   ]
  },
  {
   "cell_type": "code",
   "execution_count": 3,
   "id": "75709d47",
   "metadata": {},
   "outputs": [
    {
     "data": {
      "text/plain": [
       "sa1    847\n",
       "li1    833\n",
       "po     315\n",
       "fa     231\n",
       "lo     224\n",
       "au      77\n",
       "Name: premise, dtype: int64"
      ]
     },
     "execution_count": 3,
     "metadata": {},
     "output_type": "execute_result"
    }
   ],
   "source": [
    "one['premise'].value_counts()"
   ]
  },
  {
   "cell_type": "code",
   "execution_count": 4,
   "id": "9b0e2488",
   "metadata": {},
   "outputs": [
    {
     "data": {
      "text/html": [
       "<div>\n",
       "<style scoped>\n",
       "    .dataframe tbody tr th:only-of-type {\n",
       "        vertical-align: middle;\n",
       "    }\n",
       "\n",
       "    .dataframe tbody tr th {\n",
       "        vertical-align: top;\n",
       "    }\n",
       "\n",
       "    .dataframe thead th {\n",
       "        text-align: right;\n",
       "    }\n",
       "</style>\n",
       "<table border=\"1\" class=\"dataframe\">\n",
       "  <thead>\n",
       "    <tr style=\"text-align: right;\">\n",
       "      <th></th>\n",
       "      <th></th>\n",
       "      <th>answer</th>\n",
       "      <th>std</th>\n",
       "      <th>n_premises</th>\n",
       "    </tr>\n",
       "    <tr>\n",
       "      <th>premise</th>\n",
       "      <th>y</th>\n",
       "      <th></th>\n",
       "      <th></th>\n",
       "      <th></th>\n",
       "    </tr>\n",
       "  </thead>\n",
       "  <tbody>\n",
       "    <tr>\n",
       "      <th rowspan=\"5\" valign=\"top\">au</th>\n",
       "      <th>au</th>\n",
       "      <td>3.727273</td>\n",
       "      <td>1.954017</td>\n",
       "      <td>1</td>\n",
       "    </tr>\n",
       "    <tr>\n",
       "      <th>ca</th>\n",
       "      <td>5.090909</td>\n",
       "      <td>1.513575</td>\n",
       "      <td>1</td>\n",
       "    </tr>\n",
       "    <tr>\n",
       "      <th>fa</th>\n",
       "      <td>4.909091</td>\n",
       "      <td>1.136182</td>\n",
       "      <td>1</td>\n",
       "    </tr>\n",
       "    <tr>\n",
       "      <th>li</th>\n",
       "      <td>4.363636</td>\n",
       "      <td>1.689540</td>\n",
       "      <td>1</td>\n",
       "    </tr>\n",
       "    <tr>\n",
       "      <th>lo</th>\n",
       "      <td>4.636364</td>\n",
       "      <td>1.963300</td>\n",
       "      <td>1</td>\n",
       "    </tr>\n",
       "  </tbody>\n",
       "</table>\n",
       "</div>"
      ],
      "text/plain": [
       "              answer       std  n_premises\n",
       "premise y                                 \n",
       "au      au  3.727273  1.954017           1\n",
       "        ca  5.090909  1.513575           1\n",
       "        fa  4.909091  1.136182           1\n",
       "        li  4.363636  1.689540           1\n",
       "        lo  4.636364  1.963300           1"
      ]
     },
     "execution_count": 4,
     "metadata": {},
     "output_type": "execute_result"
    }
   ],
   "source": [
    "# Creating a dataframe with averaged participant responses in each unique premise/conclusion combination (1-example premise)\n",
    "one_avg = pd.DataFrame()\n",
    "one_avg['answer'] = one.groupby(['premise','y'])['answer'].mean()\n",
    "one_avg['std'] = one.groupby(['premise','y'])['answer'].std()\n",
    "one_avg['n_premises'] = 1\n",
    "one_avg.head()"
   ]
  },
  {
   "cell_type": "code",
   "execution_count": 5,
   "id": "fb5817b8",
   "metadata": {},
   "outputs": [
    {
     "data": {
      "text/html": [
       "<div>\n",
       "<style scoped>\n",
       "    .dataframe tbody tr th:only-of-type {\n",
       "        vertical-align: middle;\n",
       "    }\n",
       "\n",
       "    .dataframe tbody tr th {\n",
       "        vertical-align: top;\n",
       "    }\n",
       "\n",
       "    .dataframe thead th {\n",
       "        text-align: right;\n",
       "    }\n",
       "</style>\n",
       "<table border=\"1\" class=\"dataframe\">\n",
       "  <thead>\n",
       "    <tr style=\"text-align: right;\">\n",
       "      <th></th>\n",
       "      <th></th>\n",
       "      <th>answer</th>\n",
       "      <th>std</th>\n",
       "      <th>n_premises</th>\n",
       "    </tr>\n",
       "    <tr>\n",
       "      <th>premise</th>\n",
       "      <th>y</th>\n",
       "      <th></th>\n",
       "      <th></th>\n",
       "      <th></th>\n",
       "    </tr>\n",
       "  </thead>\n",
       "  <tbody>\n",
       "    <tr>\n",
       "      <th rowspan=\"5\" valign=\"top\">au_fa_po</th>\n",
       "      <th>au</th>\n",
       "      <td>6.090909</td>\n",
       "      <td>0.831209</td>\n",
       "      <td>3</td>\n",
       "    </tr>\n",
       "    <tr>\n",
       "      <th>ca</th>\n",
       "      <td>5.090909</td>\n",
       "      <td>1.578261</td>\n",
       "      <td>3</td>\n",
       "    </tr>\n",
       "    <tr>\n",
       "      <th>fa</th>\n",
       "      <td>3.818182</td>\n",
       "      <td>2.088932</td>\n",
       "      <td>3</td>\n",
       "    </tr>\n",
       "    <tr>\n",
       "      <th>li</th>\n",
       "      <td>5.272727</td>\n",
       "      <td>1.009050</td>\n",
       "      <td>3</td>\n",
       "    </tr>\n",
       "    <tr>\n",
       "      <th>lo</th>\n",
       "      <td>5.727273</td>\n",
       "      <td>1.348400</td>\n",
       "      <td>3</td>\n",
       "    </tr>\n",
       "  </tbody>\n",
       "</table>\n",
       "</div>"
      ],
      "text/plain": [
       "               answer       std  n_premises\n",
       "premise  y                                 \n",
       "au_fa_po au  6.090909  0.831209           3\n",
       "         ca  5.090909  1.578261           3\n",
       "         fa  3.818182  2.088932           3\n",
       "         li  5.272727  1.009050           3\n",
       "         lo  5.727273  1.348400           3"
      ]
     },
     "execution_count": 5,
     "metadata": {},
     "output_type": "execute_result"
    }
   ],
   "source": [
    "# Creating a dataframe with averaged participant responses in each unique premise/conclusion combination (3-example premise)\n",
    "three_avg = pd.DataFrame()\n",
    "three_avg['answer'] = three.groupby(['premise','y'])['answer'].mean()\n",
    "three_avg['std'] = three.groupby(['premise','y'])['answer'].std()\n",
    "three_avg['n_premises'] = 3\n",
    "three_avg.head()"
   ]
  },
  {
   "cell_type": "code",
   "execution_count": 6,
   "id": "8413362d",
   "metadata": {},
   "outputs": [
    {
     "name": "stdout",
     "output_type": "stream",
     "text": [
      "(147, 5)\n"
     ]
    },
    {
     "data": {
      "text/html": [
       "<div>\n",
       "<style scoped>\n",
       "    .dataframe tbody tr th:only-of-type {\n",
       "        vertical-align: middle;\n",
       "    }\n",
       "\n",
       "    .dataframe tbody tr th {\n",
       "        vertical-align: top;\n",
       "    }\n",
       "\n",
       "    .dataframe thead th {\n",
       "        text-align: right;\n",
       "    }\n",
       "</style>\n",
       "<table border=\"1\" class=\"dataframe\">\n",
       "  <thead>\n",
       "    <tr style=\"text-align: right;\">\n",
       "      <th></th>\n",
       "      <th>premise</th>\n",
       "      <th>y</th>\n",
       "      <th>answer</th>\n",
       "      <th>std</th>\n",
       "      <th>n_premises</th>\n",
       "    </tr>\n",
       "  </thead>\n",
       "  <tbody>\n",
       "    <tr>\n",
       "      <th>0</th>\n",
       "      <td>au</td>\n",
       "      <td>au</td>\n",
       "      <td>3.727273</td>\n",
       "      <td>1.954017</td>\n",
       "      <td>1</td>\n",
       "    </tr>\n",
       "    <tr>\n",
       "      <th>1</th>\n",
       "      <td>au</td>\n",
       "      <td>ca</td>\n",
       "      <td>5.090909</td>\n",
       "      <td>1.513575</td>\n",
       "      <td>1</td>\n",
       "    </tr>\n",
       "    <tr>\n",
       "      <th>2</th>\n",
       "      <td>au</td>\n",
       "      <td>fa</td>\n",
       "      <td>4.909091</td>\n",
       "      <td>1.136182</td>\n",
       "      <td>1</td>\n",
       "    </tr>\n",
       "    <tr>\n",
       "      <th>3</th>\n",
       "      <td>au</td>\n",
       "      <td>li</td>\n",
       "      <td>4.363636</td>\n",
       "      <td>1.689540</td>\n",
       "      <td>1</td>\n",
       "    </tr>\n",
       "    <tr>\n",
       "      <th>4</th>\n",
       "      <td>au</td>\n",
       "      <td>lo</td>\n",
       "      <td>4.636364</td>\n",
       "      <td>1.963300</td>\n",
       "      <td>1</td>\n",
       "    </tr>\n",
       "  </tbody>\n",
       "</table>\n",
       "</div>"
      ],
      "text/plain": [
       "  premise   y    answer       std  n_premises\n",
       "0      au  au  3.727273  1.954017           1\n",
       "1      au  ca  5.090909  1.513575           1\n",
       "2      au  fa  4.909091  1.136182           1\n",
       "3      au  li  4.363636  1.689540           1\n",
       "4      au  lo  4.636364  1.963300           1"
      ]
     },
     "execution_count": 6,
     "metadata": {},
     "output_type": "execute_result"
    }
   ],
   "source": [
    "# Concatenating the data for 1 and 3 example premises into a single dataframe\n",
    "# Separating the premise and conclusion into columns instead of the index\n",
    "data = pd.concat([one_avg,three_avg])[['answer','std','n_premises']]\n",
    "data = data.reset_index()\n",
    "print(data.shape)\n",
    "data.head()"
   ]
  },
  {
   "cell_type": "code",
   "execution_count": 7,
   "id": "427f9d78",
   "metadata": {},
   "outputs": [],
   "source": [
    "%%capture \n",
    "%run ../model_implementation.ipynb"
   ]
  },
  {
   "cell_type": "code",
   "execution_count": 8,
   "id": "2f0d441b",
   "metadata": {},
   "outputs": [
    {
     "data": {
      "text/plain": [
       "li1         7\n",
       "po_au_lo    7\n",
       "au          7\n",
       "sa1         7\n",
       "fa          7\n",
       "po_lo_au    7\n",
       "fa_ca_lo    7\n",
       "au_lo_ca    7\n",
       "ca_fa_lo    7\n",
       "au_fa_po    7\n",
       "au_po_fa    7\n",
       "lo          7\n",
       "ca3         7\n",
       "po_au_fa    7\n",
       "fa3         7\n",
       "po_fa_au    7\n",
       "po          7\n",
       "lo3         7\n",
       "po3         7\n",
       "li3         7\n",
       "sa3         7\n",
       "Name: premise, dtype: int64"
      ]
     },
     "execution_count": 8,
     "metadata": {},
     "output_type": "execute_result"
    }
   ],
   "source": [
    "# Checking that all premises occur exactly 7 times each (because participant responses are averaged for each of 7 conclusions)\n",
    "data['premise'].value_counts()"
   ]
  },
  {
   "cell_type": "code",
   "execution_count": 9,
   "id": "7a08b56d",
   "metadata": {},
   "outputs": [
    {
     "data": {
      "text/html": [
       "<div>\n",
       "<style scoped>\n",
       "    .dataframe tbody tr th:only-of-type {\n",
       "        vertical-align: middle;\n",
       "    }\n",
       "\n",
       "    .dataframe tbody tr th {\n",
       "        vertical-align: top;\n",
       "    }\n",
       "\n",
       "    .dataframe thead th {\n",
       "        text-align: right;\n",
       "    }\n",
       "</style>\n",
       "<table border=\"1\" class=\"dataframe\">\n",
       "  <thead>\n",
       "    <tr style=\"text-align: right;\">\n",
       "      <th></th>\n",
       "      <th>premise</th>\n",
       "      <th>y</th>\n",
       "      <th>answer</th>\n",
       "      <th>std</th>\n",
       "      <th>n_premises</th>\n",
       "      <th>model_prediction</th>\n",
       "    </tr>\n",
       "  </thead>\n",
       "  <tbody>\n",
       "    <tr>\n",
       "      <th>0</th>\n",
       "      <td>au</td>\n",
       "      <td>au</td>\n",
       "      <td>3.727273</td>\n",
       "      <td>1.954017</td>\n",
       "      <td>1</td>\n",
       "      <td>1.000000</td>\n",
       "    </tr>\n",
       "    <tr>\n",
       "      <th>1</th>\n",
       "      <td>au</td>\n",
       "      <td>ca</td>\n",
       "      <td>5.090909</td>\n",
       "      <td>1.513575</td>\n",
       "      <td>1</td>\n",
       "      <td>0.381255</td>\n",
       "    </tr>\n",
       "    <tr>\n",
       "      <th>2</th>\n",
       "      <td>au</td>\n",
       "      <td>fa</td>\n",
       "      <td>4.909091</td>\n",
       "      <td>1.136182</td>\n",
       "      <td>1</td>\n",
       "      <td>0.381255</td>\n",
       "    </tr>\n",
       "    <tr>\n",
       "      <th>3</th>\n",
       "      <td>au</td>\n",
       "      <td>li</td>\n",
       "      <td>4.363636</td>\n",
       "      <td>1.689540</td>\n",
       "      <td>1</td>\n",
       "      <td>0.176494</td>\n",
       "    </tr>\n",
       "    <tr>\n",
       "      <th>4</th>\n",
       "      <td>au</td>\n",
       "      <td>lo</td>\n",
       "      <td>4.636364</td>\n",
       "      <td>1.963300</td>\n",
       "      <td>1</td>\n",
       "      <td>0.381255</td>\n",
       "    </tr>\n",
       "  </tbody>\n",
       "</table>\n",
       "</div>"
      ],
      "text/plain": [
       "  premise   y    answer       std  n_premises  model_prediction\n",
       "0      au  au  3.727273  1.954017           1          1.000000\n",
       "1      au  ca  5.090909  1.513575           1          0.381255\n",
       "2      au  fa  4.909091  1.136182           1          0.381255\n",
       "3      au  li  4.363636  1.689540           1          0.176494\n",
       "4      au  lo  4.636364  1.963300           1          0.381255"
      ]
     },
     "execution_count": 9,
     "metadata": {},
     "output_type": "execute_result"
    }
   ],
   "source": [
    "# Using a fixed lambda value of 0.1, compute the model prediction for that premise/conclusion combination and add to the data\n",
    "lambda_param = 0.1\n",
    "for index,row in data.iterrows():\n",
    "    premise = row['premise']\n",
    "    if len(premise) == 2:\n",
    "        # single premise case, propriety violation\n",
    "        premise = [premise]\n",
    "    elif len(premise) == 3 and premise[2] == str(1):\n",
    "        # single premise case, need to remove extra number on end\n",
    "        premise = [premise[0:2]]\n",
    "    elif len(premise) == 3 and premise[2] == str(3):\n",
    "        # 3 premise case, all same category\n",
    "        premise = [premise[0:2],premise[0:2],premise[0:2]]\n",
    "    else:\n",
    "        # 3 premise case, all different propriety\n",
    "        premise = premise.split('_')\n",
    "    \n",
    "    for y in compute_all_probabilities(premise,lambda_param):\n",
    "        if y[0] == row['y']:\n",
    "            data.at[index,'model_prediction'] = y[1]\n",
    "data.head()"
   ]
  },
  {
   "cell_type": "code",
   "execution_count": 10,
   "id": "da0dc2b9",
   "metadata": {},
   "outputs": [
    {
     "data": {
      "text/html": [
       "<div>\n",
       "<style scoped>\n",
       "    .dataframe tbody tr th:only-of-type {\n",
       "        vertical-align: middle;\n",
       "    }\n",
       "\n",
       "    .dataframe tbody tr th {\n",
       "        vertical-align: top;\n",
       "    }\n",
       "\n",
       "    .dataframe thead th {\n",
       "        text-align: right;\n",
       "    }\n",
       "</style>\n",
       "<table border=\"1\" class=\"dataframe\">\n",
       "  <thead>\n",
       "    <tr style=\"text-align: right;\">\n",
       "      <th></th>\n",
       "      <th>premise</th>\n",
       "      <th>y</th>\n",
       "      <th>answer</th>\n",
       "      <th>std</th>\n",
       "      <th>n_premises</th>\n",
       "      <th>model_prediction</th>\n",
       "    </tr>\n",
       "  </thead>\n",
       "  <tbody>\n",
       "    <tr>\n",
       "      <th>0</th>\n",
       "      <td>au</td>\n",
       "      <td>au</td>\n",
       "      <td>3.727273</td>\n",
       "      <td>1.954017</td>\n",
       "      <td>1</td>\n",
       "      <td>1.000000</td>\n",
       "    </tr>\n",
       "    <tr>\n",
       "      <th>1</th>\n",
       "      <td>au</td>\n",
       "      <td>ca</td>\n",
       "      <td>5.090909</td>\n",
       "      <td>1.513575</td>\n",
       "      <td>1</td>\n",
       "      <td>0.381255</td>\n",
       "    </tr>\n",
       "    <tr>\n",
       "      <th>2</th>\n",
       "      <td>au</td>\n",
       "      <td>fa</td>\n",
       "      <td>4.909091</td>\n",
       "      <td>1.136182</td>\n",
       "      <td>1</td>\n",
       "      <td>0.381255</td>\n",
       "    </tr>\n",
       "    <tr>\n",
       "      <th>3</th>\n",
       "      <td>au</td>\n",
       "      <td>li</td>\n",
       "      <td>4.363636</td>\n",
       "      <td>1.689540</td>\n",
       "      <td>1</td>\n",
       "      <td>0.176494</td>\n",
       "    </tr>\n",
       "    <tr>\n",
       "      <th>4</th>\n",
       "      <td>au</td>\n",
       "      <td>lo</td>\n",
       "      <td>4.636364</td>\n",
       "      <td>1.963300</td>\n",
       "      <td>1</td>\n",
       "      <td>0.381255</td>\n",
       "    </tr>\n",
       "  </tbody>\n",
       "</table>\n",
       "</div>"
      ],
      "text/plain": [
       "  premise   y    answer       std  n_premises  model_prediction\n",
       "0      au  au  3.727273  1.954017           1          1.000000\n",
       "1      au  ca  5.090909  1.513575           1          0.381255\n",
       "2      au  fa  4.909091  1.136182           1          0.381255\n",
       "3      au  li  4.363636  1.689540           1          0.176494\n",
       "4      au  lo  4.636364  1.963300           1          0.381255"
      ]
     },
     "execution_count": 10,
     "metadata": {},
     "output_type": "execute_result"
    }
   ],
   "source": [
    "# Filling in all undefined std (i.e. premise/conclusion combos with only 1 data point) with std=1. \n",
    "data = data.fillna(1)\n",
    "data.head()"
   ]
  },
  {
   "cell_type": "code",
   "execution_count": 11,
   "id": "8cb17e11",
   "metadata": {},
   "outputs": [
    {
     "data": {
      "image/png": "[encoded data removed]",
      "text/plain": [
       "<Figure size 432x288 with 1 Axes>"
      ]
     },
     "metadata": {
      "needs_background": "light"
     },
     "output_type": "display_data"
    }
   ],
   "source": [
    "# Plotting data with error bars\n",
    "# adding up to 1 std of random noise to the model prediction, to make the bars more separate\n",
    "import random\n",
    "model_noise = [round(random.uniform(-x, x), 2) for x in data['std']] \n",
    "#model_noise = [0 for x in data['std']]\n",
    "plt.errorbar(data['model_prediction']+model_noise, data['answer'], xerr=0, yerr=2*data['std'], linestyle='', fmt=\"o\")\n",
    "plt.show()"
   ]
  },
  {
   "cell_type": "code",
   "execution_count": 12,
   "id": "a6ba4827",
   "metadata": {},
   "outputs": [
    {
     "data": {
      "text/plain": [
       "Text(0, 0.5, 'Participant Responses (Average)')"
      ]
     },
     "execution_count": 12,
     "metadata": {},
     "output_type": "execute_result"
    },
    {
     "data": {
      "image/png": "[encoded data removed]",
      "text/plain": [
       "<Figure size 432x288 with 1 Axes>"
      ]
     },
     "metadata": {
      "needs_background": "light"
     },
     "output_type": "display_data"
    }
   ],
   "source": [
    "# plot the data\n",
    "import matplotlib.pyplot as plt\n",
    "from mlxtend.plotting import category_scatter\n",
    "fig = category_scatter(x='model_prediction', y='answer', label_col='n_premises', data=data, legend_loc='upper left')\n",
    "plt.xlabel('Model Prediction')\n",
    "plt.ylabel('Participant Responses (Average)')\n",
    "# data.plot.scatter(x='answer',y='model_prediction')"
   ]
  },
  {
   "cell_type": "code",
   "execution_count": 13,
   "id": "a1294319",
   "metadata": {},
   "outputs": [
    {
     "data": {
      "text/html": [
       "<div>\n",
       "<style scoped>\n",
       "    .dataframe tbody tr th:only-of-type {\n",
       "        vertical-align: middle;\n",
       "    }\n",
       "\n",
       "    .dataframe tbody tr th {\n",
       "        vertical-align: top;\n",
       "    }\n",
       "\n",
       "    .dataframe thead th {\n",
       "        text-align: right;\n",
       "    }\n",
       "</style>\n",
       "<table border=\"1\" class=\"dataframe\">\n",
       "  <thead>\n",
       "    <tr style=\"text-align: right;\">\n",
       "      <th></th>\n",
       "      <th>answer</th>\n",
       "      <th>model_prediction</th>\n",
       "    </tr>\n",
       "  </thead>\n",
       "  <tbody>\n",
       "    <tr>\n",
       "      <th>answer</th>\n",
       "      <td>1.000000</td>\n",
       "      <td>0.441695</td>\n",
       "    </tr>\n",
       "    <tr>\n",
       "      <th>model_prediction</th>\n",
       "      <td>0.441695</td>\n",
       "      <td>1.000000</td>\n",
       "    </tr>\n",
       "  </tbody>\n",
       "</table>\n",
       "</div>"
      ],
      "text/plain": [
       "                    answer  model_prediction\n",
       "answer            1.000000          0.441695\n",
       "model_prediction  0.441695          1.000000"
      ]
     },
     "execution_count": 13,
     "metadata": {},
     "output_type": "execute_result"
    }
   ],
   "source": [
    "data[['answer','model_prediction']].corr()"
   ]
  },
  {
   "cell_type": "code",
   "execution_count": 14,
   "id": "7886a56c",
   "metadata": {},
   "outputs": [],
   "source": [
    "# write to file\n",
    "data.to_csv('final_data.csv',index=False)"
   ]
  },
  {
   "cell_type": "code",
   "execution_count": 15,
   "id": "fe7d134f",
   "metadata": {},
   "outputs": [
    {
     "name": "stdout",
     "output_type": "stream",
     "text": [
      "best param: 0.9\n",
      "max absolute correlation: 0.4507244871651099\n"
     ]
    }
   ],
   "source": [
    "# Fitting lambda parameter\n",
    "param_values = [0.1,0.2,0.3,0.4,0.5,0.6,0.7,0.8,0.9]\n",
    "max_abs_corr = -1\n",
    "best_param = 0\n",
    "for lambda_param in param_values:\n",
    "    for index,row in data.iterrows():\n",
    "        premise = row['premise']\n",
    "        if len(premise) == 2:\n",
    "            # single premise case, propriety violation\n",
    "            premise = [premise]\n",
    "        elif len(premise) == 3 and premise[2] == str(1):\n",
    "            # single premise case, need to remove extra number on end\n",
    "            premise = [premise[0:2]]\n",
    "        elif len(premise) == 3 and premise[2] == str(3):\n",
    "            # 3 premise case, all same category\n",
    "            premise = [premise[0:2],premise[0:2],premise[0:2]]\n",
    "        else:\n",
    "            # 3 premise case, all different propriety\n",
    "            premise = premise.split('_')\n",
    "\n",
    "        for y in compute_all_probabilities(premise,lambda_param):\n",
    "            if y[0] == row['y']:\n",
    "                data.at[index,'model_prediction'] = y[1]\n",
    "    corr = data[['answer','model_prediction']].corr()['model_prediction'].iloc[0]\n",
    "    if abs(corr) > max_abs_corr:\n",
    "        max_abs_corr = abs(corr)\n",
    "        best_param = lambda_param\n",
    "\n",
    "print('best param:',lambda_param)\n",
    "print('max absolute correlation:',max_abs_corr)"
   ]
  },
  {
   "cell_type": "code",
   "execution_count": 16,
   "id": "38346cfe",
   "metadata": {},
   "outputs": [
    {
     "data": {
      "text/html": [
       "<div>\n",
       "<style scoped>\n",
       "    .dataframe tbody tr th:only-of-type {\n",
       "        vertical-align: middle;\n",
       "    }\n",
       "\n",
       "    .dataframe tbody tr th {\n",
       "        vertical-align: top;\n",
       "    }\n",
       "\n",
       "    .dataframe thead th {\n",
       "        text-align: right;\n",
       "    }\n",
       "</style>\n",
       "<table border=\"1\" class=\"dataframe\">\n",
       "  <thead>\n",
       "    <tr style=\"text-align: right;\">\n",
       "      <th></th>\n",
       "      <th>premise</th>\n",
       "      <th>y</th>\n",
       "      <th>answer</th>\n",
       "      <th>std</th>\n",
       "      <th>n_premises</th>\n",
       "      <th>model_prediction</th>\n",
       "    </tr>\n",
       "  </thead>\n",
       "  <tbody>\n",
       "    <tr>\n",
       "      <th>0</th>\n",
       "      <td>au</td>\n",
       "      <td>au</td>\n",
       "      <td>3.727273</td>\n",
       "      <td>1.954017</td>\n",
       "      <td>1</td>\n",
       "      <td>1.000000</td>\n",
       "    </tr>\n",
       "    <tr>\n",
       "      <th>1</th>\n",
       "      <td>au</td>\n",
       "      <td>ca</td>\n",
       "      <td>5.090909</td>\n",
       "      <td>1.513575</td>\n",
       "      <td>1</td>\n",
       "      <td>0.245119</td>\n",
       "    </tr>\n",
       "    <tr>\n",
       "      <th>2</th>\n",
       "      <td>au</td>\n",
       "      <td>fa</td>\n",
       "      <td>4.909091</td>\n",
       "      <td>1.136182</td>\n",
       "      <td>1</td>\n",
       "      <td>0.245119</td>\n",
       "    </tr>\n",
       "    <tr>\n",
       "      <th>3</th>\n",
       "      <td>au</td>\n",
       "      <td>li</td>\n",
       "      <td>4.363636</td>\n",
       "      <td>1.689540</td>\n",
       "      <td>1</td>\n",
       "      <td>0.656790</td>\n",
       "    </tr>\n",
       "    <tr>\n",
       "      <th>4</th>\n",
       "      <td>au</td>\n",
       "      <td>lo</td>\n",
       "      <td>4.636364</td>\n",
       "      <td>1.963300</td>\n",
       "      <td>1</td>\n",
       "      <td>0.245119</td>\n",
       "    </tr>\n",
       "  </tbody>\n",
       "</table>\n",
       "</div>"
      ],
      "text/plain": [
       "  premise   y    answer       std  n_premises  model_prediction\n",
       "0      au  au  3.727273  1.954017           1          1.000000\n",
       "1      au  ca  5.090909  1.513575           1          0.245119\n",
       "2      au  fa  4.909091  1.136182           1          0.245119\n",
       "3      au  li  4.363636  1.689540           1          0.656790\n",
       "4      au  lo  4.636364  1.963300           1          0.245119"
      ]
     },
     "execution_count": 16,
     "metadata": {},
     "output_type": "execute_result"
    }
   ],
   "source": [
    "# Generating bar chart\n",
    "data.head()"
   ]
  },
  {
   "cell_type": "code",
   "execution_count": 17,
   "id": "470dff97",
   "metadata": {},
   "outputs": [
    {
     "data": {
      "text/plain": [
       "array(['au', 'fa', 'li1', 'lo', 'po', 'sa1', 'au_fa_po', 'au_lo_ca',\n",
       "       'au_po_fa', 'ca3', 'ca_fa_lo', 'fa3', 'fa_ca_lo', 'li3', 'lo3',\n",
       "       'po3', 'po_au_fa', 'po_au_lo', 'po_fa_au', 'po_lo_au', 'sa3'],\n",
       "      dtype=object)"
      ]
     },
     "execution_count": 17,
     "metadata": {},
     "output_type": "execute_result"
    }
   ],
   "source": [
    "data['premise'].unique()"
   ]
  },
  {
   "cell_type": "code",
   "execution_count": 18,
   "id": "c83073f2",
   "metadata": {},
   "outputs": [],
   "source": [
    "# Group these unique premises into Propriety, Liberty, and Sanctity (so we can plot 1 vs 3 examples)\n",
    "def grp(x):\n",
    "    if len(x) == 2:\n",
    "        return 'pr'\n",
    "    elif len(x) == 3 and x[0:2] in ['li','sa']:\n",
    "        return x[0:2]\n",
    "    elif len(x) == 3:\n",
    "        return 'pr'\n",
    "    elif x[0:2] in ['ca','fa','au','lo','po']:\n",
    "        return 'pr'\n",
    "    else:\n",
    "        return x[0:2]"
   ]
  },
  {
   "cell_type": "code",
   "execution_count": 19,
   "id": "e4ea5189",
   "metadata": {},
   "outputs": [
    {
     "data": {
      "text/plain": [
       "array(['pr', 'li', 'sa'], dtype=object)"
      ]
     },
     "execution_count": 19,
     "metadata": {},
     "output_type": "execute_result"
    }
   ],
   "source": [
    "data['premise_combined'] = [grp(x) for x in data['premise']]\n",
    "data['premise_combined'].unique()"
   ]
  },
  {
   "cell_type": "code",
   "execution_count": 28,
   "id": "a53b3057",
   "metadata": {},
   "outputs": [
    {
     "data": {
      "image/png": "[encoded data removed]",
      "text/plain": [
       "<Figure size 432x288 with 1 Axes>"
      ]
     },
     "metadata": {
      "needs_background": "light"
     },
     "output_type": "display_data"
    },
    {
     "data": {
      "image/png": "[encoded data removed]",
      "text/plain": [
       "<Figure size 432x288 with 1 Axes>"
      ]
     },
     "metadata": {
      "needs_background": "light"
     },
     "output_type": "display_data"
    },
    {
     "data": {
      "image/png": "[encoded data removed]",
      "text/plain": [
       "<Figure size 432x288 with 1 Axes>"
      ]
     },
     "metadata": {
      "needs_background": "light"
     },
     "output_type": "display_data"
    },
    {
     "data": {
      "image/png": "[encoded data removed]",
      "text/plain": [
       "<Figure size 432x288 with 1 Axes>"
      ]
     },
     "metadata": {
      "needs_background": "light"
     },
     "output_type": "display_data"
    },
    {
     "data": {
      "image/png": "[encoded data removed]",
      "text/plain": [
       "<Figure size 432x288 with 1 Axes>"
      ]
     },
     "metadata": {
      "needs_background": "light"
     },
     "output_type": "display_data"
    },
    {
     "data": {
      "image/png": "[encoded data removed]",
      "text/plain": [
       "<Figure size 432x288 with 1 Axes>"
      ]
     },
     "metadata": {
      "needs_background": "light"
     },
     "output_type": "display_data"
    },
    {
     "data": {
      "image/png": "[encoded data removed]",
      "text/plain": [
       "<Figure size 432x288 with 1 Axes>"
      ]
     },
     "metadata": {
      "needs_background": "light"
     },
     "output_type": "display_data"
    }
   ],
   "source": [
    "# Creating barcharts to compare 1 vs 3 premise examples\n",
    "df_pivot = pd.pivot_table(\n",
    "    data, \n",
    "    values=\"answer\",\n",
    "    index=[\"premise_combined\",'y'],\n",
    "    columns=\"n_premises\", \n",
    "    aggfunc=np.mean\n",
    ")\n",
    "df_pivot.groupby('y').plot.bar()"
   ]
  },
  {
   "cell_type": "code",
   "execution_count": null,
   "id": "352ce642",
   "metadata": {},
   "outputs": [],
   "source": []
  }
 ],
 "metadata": {
  "kernelspec": {
   "display_name": "Python 3",
   "language": "python",
   "name": "python3"
  },
  "language_info": {
   "codemirror_mode": {
    "name": "ipython",
    "version": 3
   },
   "file_extension": ".py",
   "mimetype": "text/x-python",
   "name": "python",
   "nbconvert_exporter": "python",
   "pygments_lexer": "ipython3",
   "version": "3.8.8"
  }
 },
 "nbformat": 4,
 "nbformat_minor": 5
}
