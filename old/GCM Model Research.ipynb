{
 "cells": [
  {
   "cell_type": "code",
   "execution_count": 11,
   "metadata": {},
   "outputs": [
    {
     "name": "stdout",
     "output_type": "stream",
     "text": [
      "0.9999999999500002\n"
     ]
    }
   ],
   "source": [
    "#Author: Abilash Raghuram \n",
    "\n",
    "import numpy as np\n",
    "import math as math\n",
    "import matplotlib.pyplot as plt; plt.rcdefaults()\n",
    "import matplotlib.pyplot as plt\n",
    "# A - authority 7    auth  7\n",
    "# F - fairness 6     fair  6\n",
    "# H - purity - 9    care  5\n",
    "# I - Liberty 4     loyality  8\n",
    "# L - Loyality 8    liberty  4\n",
    "# S - Sanctity 3      sancity 3\n",
    "# N - counter-normative violations 10 \n",
    "# C - Care 5          politeness 9 \n",
    "\n",
    "# d= [[-0.057,-0.154],  #Care \n",
    "#    [0.277,-0.005],   #fairness\n",
    "#    [-0.553501174065413,0.674],   #Liberty\n",
    "#    [-0.019,-0,225],  #Authority\n",
    "#    [0.274,-0.430],  #Loyality\n",
    "#    [-1.186,-0.329],  #Sanctity\n",
    "#    [-0.0532422719076702,-0.170633643503932]] #counter-normative\n",
    "\n",
    "d = [[-1.596933,-5.05535866], #authority\n",
    "    [11.043068,0.06627273],   #fairness\n",
    "    [7.898003,-9.26909509],  #Care\n",
    "    [4.416425,-16.35740041],   #Loyalilty\n",
    "    [37.053624,5.23541370],   #Liberty\n",
    "     [-53.156572,-14.78400515], #Sanctity\n",
    "    [1.951252,4.24941925]]   #Counter-Normative\n",
    "b =[0.14285714285,0.14285714285,0.14285714285,0.14285714285,0.14285714285,0.14285714285,0.14285714285] #divide b into 7 parts \n",
    "s=0\n",
    "for j in range(len(b)):\n",
    "    s = s +b[j]\n",
    "print(s)\n",
    "w =0.30\n",
    "c= 0.09"
   ]
  },
  {
   "cell_type": "code",
   "execution_count": 12,
   "metadata": {},
   "outputs": [],
   "source": [
    "def computeN(dimOne, dimTwo , w):\n",
    "    return  math.exp(-c**2*(w* (dimOne[0]- dimTwo[0]) ** 2 + (1- w)*(dimOne[1] - dimTwo[1])**2))\n",
    "    "
   ]
  },
  {
   "cell_type": "code",
   "execution_count": 13,
   "metadata": {},
   "outputs": [],
   "source": [
    "Denoms = [0,0,0,0,0,0,0] # should have 7 values , each value is a sum of 7 combinations of attributes \n",
    "sum = 0\n",
    "for i in range(len(d)):\n",
    "    ref = d[i]\n",
    "    for j in range(len(d)):\n",
    "        sum = sum+ computeN(ref,d[j],w)*b[j]\n",
    "    Denoms[i] = sum\n",
    "        "
   ]
  },
  {
   "cell_type": "code",
   "execution_count": 14,
   "metadata": {},
   "outputs": [
    {
     "name": "stdout",
     "output_type": "stream",
     "text": [
      "[0.4805500129407833, 0.9493600267183814, 1.437409061146261, 1.789305239483736, 1.9713305834568366, 2.114390443377818, 2.514184376371496]\n"
     ]
    }
   ],
   "source": [
    "print(Denoms)"
   ]
  },
  {
   "cell_type": "code",
   "execution_count": 15,
   "metadata": {},
   "outputs": [],
   "source": [
    "probs = [0,0,0,0,0,0,0,0,0,0,0,0,0,0,0,0,0,0,0,0,0,0,0,0,0,0,0,0,0,0,0,0,0,0,0,0,0,0,0,0,0,0,0,0,\n",
    "        0,0,0,0,0]; # 49 probability values  to be stored 8 for each of 8attributes\n",
    "\n",
    "k=0\n",
    "for i in range(len(d)):\n",
    "    ref = i\n",
    "    for j in range(len(d)):\n",
    "        probs[k] = (b[i]*computeN(d[i],d[j],w))/Denoms[i]\n",
    "       \n",
    "        k = k+1\n",
    "        "
   ]
  },
  {
   "cell_type": "code",
   "execution_count": 16,
   "metadata": {},
   "outputs": [
    {
     "name": "stdout",
     "output_type": "stream",
     "text": [
      "[0.2972784080802925, 0.17376408194588489, 0.21592286440467237, 0.13196479602226174, 0.004323748881553835, 0.00027201988813144786, 0.17647408077720328, 0.08795644379127465, 0.15047730979764248, 0.08962557993256087, 0.02930318367893072, 0.02498550049165285, 1.9264623471367984e-06, 0.11146694362642277, 0.07218664337702975, 0.0591946616028522, 0.09938516926843265, 0.07257815952304172, 0.0038210369213646437, 9.738556817189473e-06, 0.03235844205280805, 0.03544151273738118, 0.015547526842535783, 0.05830447585893141, 0.07983944812636788, 0.0004265518042701077, 2.500653127550568e-05, 0.007081854842765026, 0.001053997537713789, 0.01203260153998775, 0.002786134979001208, 0.0003871655950030342, 0.07246737003364101, 1.9277696428089288e-11, 0.0036090160003884263, 6.182356771954045e-05, 8.649804254828169e-07, 6.6204848093964375e-06, 2.1161804610266546e-05, 1.797336564129484e-11, 0.06756422083604406, 5.404091123731548e-06, 0.03373047044528572, 0.04209009552915968, 0.018499962949578785, 0.005040044037546105, 0.0028297700377959583, 4.544757629769201e-06, 0.056820471956067646]\n"
     ]
    }
   ],
   "source": [
    "print(probs)"
   ]
  },
  {
   "cell_type": "code",
   "execution_count": 17,
   "metadata": {},
   "outputs": [],
   "source": [
    "# A - authority 7    auth  7\n",
    "# F - fairness 6     fair  6\n",
    "# H - purity - 9    care  5\n",
    "# I - Liberty 4     loyality  8\n",
    "# L - Loyality 8    liberty  4\n",
    "# S - Sanctity 3      sancity 3\n",
    "# N - counter-normative violations 10 \n",
    "# C - Care 5          politeness 9 \n",
    "avgs = {\n",
    "    \"A-A\":67.85483870967742,\n",
    "    \"A-F\":60.956989247311824,\n",
    "    \"A-H\":57.206989247311824,\n",
    "    \"A-I\":54.225806451612904,\n",
    "    \"A-L\":39.38709677419355,\n",
    "    \"A-S\":27.725806451612904,\n",
    "    \"A-N\":51.196236559139784,\n",
    "   # \"A-C\":57.63978494623656,\n",
    "    \"F-A\":53.61021505376344,\n",
    "    \"F-F\":63.435483870967744,\n",
    "    \"F-H\":47.84139784946237,\n",
    "    \"F-I\":49.96774193548387,\n",
    "    \"F-L\":40.80107526881721,\n",
    "    \"f-S\":21.102150537634408,\n",
    "    \"F-N\":50.755376344086024,\n",
    "    #\"F-C\":53.096774193548384,\n",
    "    \"H-A\":55.68279569892473,\n",
    "    \"H-F\":56.50806451612903,\n",
    "    \"H-H\":60.13978494623656,\n",
    "    \"H-I\":52.303763440860216,\n",
    "    \"H-L\":43.71774193548387,\n",
    "    \"H-S\":25.233870967741936,\n",
    "    \"H-N\":49.37096774193548,\n",
    "    #\"H-C\":57.91935483870968,\n",
    "    \"I-A\":54.9005376344086,\n",
    "    \"I-F\":59.76881720430107,\n",
    "    \"I-H\":50.924731182795696,\n",
    "    \"I-I\":60.56720430107527,\n",
    "    \"I-L\":40.06989247311828,\n",
    "    \"I-S\":23.301075268817204,\n",
    "    \"I-N\":49.08064516129032,\n",
    "    #\"I-C\":47.39784946236559,\n",
    "    \"L-A\":40.615591397849464,\n",
    "    \"L-F\":51.38978494623656,\n",
    "    \"L-H\":45.94892473118279,\n",
    "    \"L-I\":37.80107526881721,\n",
    "    \"L-L\":60.266129032258064,\n",
    "    \"L-S\":20.806451612903224,\n",
    "    \"L-N\":48.6505376344086,\n",
    "    #\"L-C\":44.86021505376344,\n",
    "    \"S-A\":49.06989247311828,\n",
    "    \"S-F\":48.163978494623656,\n",
    "    \"S-H\":49.32258064516129,\n",
    "    \"S-I\":46.475806451612904,\n",
    "    \"S-L\":34.36021505376344,\n",
    "    \"S-S\":50.50806451612903,\n",
    "    \"S-N\":47.53225806451613,\n",
    "    #\"S-C\":47.094086021505376,\n",
    "   \"N-A\":28.803763440860216,\n",
    "   \"N-F\":34.23924731182796,\n",
    "   \"N-H\":27.201612903225808,\n",
    "   \"N-I\":28.129032258064516,\n",
    "   \"N-L\":26.056451612903224,\n",
    "   \"N-S\":16.50537634408602,\n",
    "   \"N-N\":53.986559139784944,\n",
    "   #\"N-C\":31.24462365591398,\n",
    "   #\"C-A\":54.75806451612903,\n",
    "   #\"C-F\":52.793010752688176,\n",
    "   #\"C-H\":48.81720430107527,\n",
    "   #\"C-I\":43.5,\n",
    "   #\"C-L\":37.086021505376344,\n",
    "   #\"C-S\":25.11021505376344,\n",
    "   # \"C-N\":50.17204301075269,\n",
    "   #\"C-C\":57.28763440860215\n",
    "    \n",
    "}"
   ]
  },
  {
   "cell_type": "code",
   "execution_count": 18,
   "metadata": {},
   "outputs": [],
   "source": [
    "userResults =  [0,0,0,0,0,0,0,0,0,0,0,0,0,0,0,0,0,0,0,0,0,0,0,0,0,0,0,0,0,0,0,0,0,0,0,0,0,0,0,0,0,0,0,0,\n",
    "        0,0,0,0,0]\n",
    "ind = 0\n",
    "for v in avgs:\n",
    "    userResults[ind] = (avgs[v])/100\n",
    "    ind = ind + 1"
   ]
  },
  {
   "cell_type": "code",
   "execution_count": 19,
   "metadata": {},
   "outputs": [
    {
     "name": "stdout",
     "output_type": "stream",
     "text": [
      "[0.6785483870967742, 0.6095698924731182, 0.5720698924731182, 0.542258064516129, 0.39387096774193553, 0.27725806451612905, 0.5119623655913978, 0.5361021505376344, 0.6343548387096775, 0.4784139784946237, 0.4996774193548387, 0.40801075268817205, 0.2110215053763441, 0.5075537634408602, 0.5568279569892473, 0.5650806451612903, 0.6013978494623656, 0.5230376344086022, 0.4371774193548387, 0.25233870967741934, 0.4937096774193548, 0.549005376344086, 0.5976881720430107, 0.509247311827957, 0.6056720430107527, 0.4006989247311828, 0.23301075268817203, 0.4908064516129032, 0.40615591397849465, 0.5138978494623656, 0.45948924731182794, 0.3780107526881721, 0.6026612903225806, 0.20806451612903223, 0.486505376344086, 0.4906989247311828, 0.48163978494623655, 0.4932258064516129, 0.46475806451612905, 0.3436021505376344, 0.5050806451612904, 0.4753225806451613, 0.28803763440860214, 0.3423924731182796, 0.2720161290322581, 0.2812903225806452, 0.26056451612903225, 0.1650537634408602, 0.5398655913978494]\n"
     ]
    }
   ],
   "source": [
    "print(userResults)"
   ]
  },
  {
   "cell_type": "code",
   "execution_count": 21,
   "metadata": {},
   "outputs": [
    {
     "name": "stdout",
     "output_type": "stream",
     "text": [
      "[[1.        0.6200761]\n",
      " [0.6200761 1.       ]]\n"
     ]
    },
    {
     "data": {
      "image/png": "[encoded data removed]",
      "text/plain": [
       "<Figure size 432x288 with 1 Axes>"
      ]
     },
     "metadata": {
      "needs_background": "light"
     },
     "output_type": "display_data"
    }
   ],
   "source": [
    "%matplotlib inline\n",
    "import matplotlib.pyplot as plt\n",
    "plt.scatter(probs, userResults\n",
    ")\n",
    "plt.title(\"GCM Scatter plot\")\n",
    "plt.xlabel(\"Model Results\")\n",
    "plt.ylabel(\"User Data\")\n",
    "c = np.corrcoef(probs,userResults)\n",
    "print(c)\n"
   ]
  },
  {
   "cell_type": "code",
   "execution_count": null,
   "metadata": {},
   "outputs": [],
   "source": []
  },
  {
   "cell_type": "code",
   "execution_count": null,
   "metadata": {},
   "outputs": [],
   "source": []
  }
 ],
 "metadata": {
  "kernelspec": {
   "display_name": "Python 3",
   "language": "python",
   "name": "python3"
  },
  "language_info": {
   "codemirror_mode": {
    "name": "ipython",
    "version": 3
   },
   "file_extension": ".py",
   "mimetype": "text/x-python",
   "name": "python",
   "nbconvert_exporter": "python",
   "pygments_lexer": "ipython3",
   "version": "3.7.3"
  }
 },
 "nbformat": 4,
 "nbformat_minor": 2
}
